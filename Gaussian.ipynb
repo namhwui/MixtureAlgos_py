{
  "nbformat": 4,
  "nbformat_minor": 0,
  "metadata": {
    "colab": {
      "name": "Gaussian.ipynb",
      "provenance": [],
      "authorship_tag": "ABX9TyMT0fAwt6W/zEAoNJuJ4GMr",
      "include_colab_link": true
    },
    "kernelspec": {
      "name": "python3",
      "display_name": "Python 3"
    },
    "language_info": {
      "name": "python"
    }
  },
  "cells": [
    {
      "cell_type": "markdown",
      "metadata": {
        "id": "view-in-github",
        "colab_type": "text"
      },
      "source": [
        "<a href=\"https://colab.research.google.com/github/namhwui/MixtureAlgos_py/blob/main/Gaussian.ipynb\" target=\"_parent\"><img src=\"https://colab.research.google.com/assets/colab-badge.svg\" alt=\"Open In Colab\"/></a>"
      ]
    },
    {
      "cell_type": "code",
      "execution_count": 35,
      "metadata": {
        "id": "NxxyK-vmcMKW",
        "colab": {
          "base_uri": "https://localhost:8080/",
          "height": 313
        },
        "outputId": "e8beae52-155b-496d-b087-c7920c8c2ac6"
      },
      "outputs": [
        {
          "output_type": "display_data",
          "data": {
            "image/png": "[encoded data removed]",
            "text/plain": [
              "<Figure size 432x288 with 1 Axes>"
            ]
          },
          "metadata": {
            "needs_background": "light"
          }
        },
        {
          "output_type": "execute_result",
          "data": {
            "text/plain": [
              "array([3.66704271e-118, 9.16760677e-121, 1.83352135e-119, 1.83352135e-119])"
            ]
          },
          "metadata": {},
          "execution_count": 35
        }
      ],
      "source": [
        "import numpy as np\n",
        "import matplotlib.pyplot as plt\n",
        "from numpy.linalg import inv\n",
        "from scipy.stats import multivariate_normal\n",
        "\n",
        "\n",
        "def mixture_density(x, model, logged = False, post = False):\n",
        "  # computes density of G-component Gaussian mixture model\n",
        "  # if logged = True, log-density is returned\n",
        "  # if logged = False, and post = True, then a length-G array of component-wise\n",
        "  #   posterior membership probabilities is returned\n",
        "  G = model['G']\n",
        "  param = model['param']\n",
        "  val = np.zeros(G) # Allocating an array of appropriate length a priori is better than iterative appending, like in R\n",
        "\n",
        "  for g in range(0, G):\n",
        "    val[g] = model['prop'][g] * multivariate_normal.pdf(x, mean=param[g]['mu'], cov=param[g]['sigma'])\n",
        "\n",
        "  if logged:\n",
        "    return(np.log(np.sum(val))) # np.sum is faster on numpy arrays, but sum is faster on lists\n",
        "  elif post:\n",
        "    return(val / np.sum(val))\n",
        "  else:\n",
        "    return(np.sum(val))\n",
        "  \n",
        "def meanshift_Gauss_update(x, model):\n",
        "  # computes a single-iteration update for Gaussian mean-shift\n",
        "  G = model['G']\n",
        "  param = model['param']\n",
        "  p = len(x)\n",
        "  A = np.zeros([p, p])\n",
        "  b = np.zeros(p)\n",
        "  posterior = mixture_density(x, model, post = True)\n",
        "\n",
        "  for g in range(0, G):\n",
        "    A += posterior[g] * param[g]['invsigma']\n",
        "    b += posterior[g] * param[g]['invsigma'] @ param[g]['mu']  # @ is a matrix vector multiplication sign, like %*% in R\n",
        "  \n",
        "  return(inv(A) @ b)\n",
        "\n",
        "\n",
        "def meanshift_Gauss(x, model, iter = 10):\n",
        "  # iterates Gaussian mean-shift 'iter' many times\n",
        "  # returns a dictionary:\n",
        "  #      x: mean-shift solution\n",
        "  #   logl: sequence of mixture model log-density computed at each iteration\n",
        "  # TO-DO: implement convergence criterion\n",
        "  logl = np.zeros(iter)\n",
        "  newx = x\n",
        "  for g in range(0, model['G']):\n",
        "    model['param'][g]['invsigma'] = inv(model['param'][g]['sigma'])\n",
        "\n",
        "  for ii in range(iter):\n",
        "    newx = meanshift_Gauss_update(newx, model)\n",
        "    logl[ii] = mixture_density(newx, model, logged = True)\n",
        "\n",
        "  return({'x':newx, 'logl':logl})\n",
        "\n",
        "\n",
        "\n",
        "# toy example\n",
        "# 2-component Gaussian\n",
        "param = [{'mu': np.array([0,0,0,0]), \n",
        "          'sigma': np.array([[1,0,0,0], [0,0.05,0,0], [0,0,0.05,0], [0,0,0,0.05]])}, \n",
        "         {'mu': np.array([3,3,3,3]),\n",
        "          'sigma':np.array([[0.05,0,0,0], [0,1,0,0], [0,0,0.05,0], [0,0,0,0.05]])}]\n",
        "\n",
        "model = {'prop':np.array([0.5, 0.5])}\n",
        "model['param'] = param\n",
        "model['G'] = len(model['prop'])\n",
        "\n",
        "x = np.array([1, 1, 1, 1])\n",
        "result = meanshift_Gauss(x, model, iter = 10)\n",
        "#plt.plot(result['logl'])\n",
        "#plt.title('Log-density over iteration')\n",
        "#plt.xlabel('Iteration')\n",
        "#plt.ylabel('log(density)')\n",
        "#plt.show()\n",
        "result['x']\n"
      ]
    }
  ]
}