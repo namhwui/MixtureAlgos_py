{
  "nbformat": 4,
  "nbformat_minor": 0,
  "metadata": {
    "colab": {
      "name": "MixtureSAL.ipynb",
      "provenance": [],
      "authorship_tag": "ABX9TyObOEeD5bCWHNF4Xq60qA3W",
      "include_colab_link": true
    },
    "kernelspec": {
      "name": "python3",
      "display_name": "Python 3"
    },
    "language_info": {
      "name": "python"
    }
  },
  "cells": [
    {
      "cell_type": "markdown",
      "metadata": {
        "id": "view-in-github",
        "colab_type": "text"
      },
      "source": [
        "<a href=\"https://colab.research.google.com/github/namhwui/MixtureAlgos_py/blob/main/MixtureSAL.ipynb\" target=\"_parent\"><img src=\"https://colab.research.google.com/assets/colab-badge.svg\" alt=\"Open In Colab\"/></a>"
      ]
    },
    {
      "cell_type": "markdown",
      "source": [
        "Implementing finite mixture of shifted asymmetric Laplace distributions\\\n",
        "From 'Mixtures of Shifted Asymmetric Laplace Distributions' \\\n",
        "by B.C. Franczak, R.P. Browne, P.D. McNicholas\\\n",
        "arxiv: https://arxiv.org/abs/1207.1727"
      ],
      "metadata": {
        "id": "Yr4sbc00IZpj"
      }
    },
    {
      "cell_type": "code",
      "execution_count": null,
      "metadata": {
        "colab": {
          "base_uri": "https://localhost:8080/"
        },
        "id": "UEpS2_tpHcrE",
        "outputId": "0c66a0e4-6a24-45b4-c3f0-e97a1ecc6f43"
      },
      "outputs": [
        {
          "output_type": "execute_result",
          "data": {
            "text/plain": [
              "array([0.00585003, 0.00408424, 0.0001571 ])"
            ]
          },
          "metadata": {},
          "execution_count": 51
        }
      ],
      "source": [
        "import numpy as np\n",
        "from numpy.linalg import inv\n",
        "from numpy.linalg import det\n",
        "from scipy.special import kv\n",
        "from scipy.spatial import distance\n",
        "\n",
        "def mahala_squared(x, invsigma, mu=None):\n",
        "  # computes squared mahalanobis distance of a n-by-p array x\n",
        "  if mu is None:\n",
        "    mu = np.zeros(invsigma.shape[0])\n",
        "  \n",
        "  n = 1\n",
        "  if len(x.shape) == 2:\n",
        "    n = x.shape[0]\n",
        "  \n",
        "  x_mu = x - mu\n",
        "  val = np.zeros(n)\n",
        "  for ii in range(0, n):\n",
        "    val[ii] = np.transpose(x_mu[ii, :]) @ invsigma @ x_mu[ii, :]\n",
        "  return(val)\n",
        "\n",
        "\n",
        "\n",
        "def component_density(x, param):\n",
        "  # computes shifted asymmetric laplace density\n",
        "\n",
        "  # compute required bilinear forms\n",
        "  xSx = mahala_squared(x, param['invsigma'], param['mu'])\n",
        "  aSa = np.transpose(param['alpha']) @ param['invsigma'] @ param['alpha']\n",
        "  exp_xSa = np.exp((x - param['mu']) @ param['invsigma'] @ param['alpha'])\n",
        "  const = np.sqrt(det(2 * np.pi * param['sigma']))\n",
        "  u = np.sqrt((2 + aSa) * xSx)\n",
        "  val = (2 * exp_xSa/const) * (xSx / (2 + aSa))**(param['nu']/2) * kv(param['nu'], u)\n",
        "  return(val) \n",
        "\n",
        "\n",
        "def mixture_density(x, model, logged = False, post = False):\n",
        "  # computes density of G-component Gaussian mixture model\n",
        "  # if logged = True, log-density is returned\n",
        "  # if logged = False, and post = True, then a length-G array of component-wise\n",
        "  #   posterior membership probabilities is returned\n",
        "  G = model['G']\n",
        "  param = model['param']\n",
        "  n = 1\n",
        "  if len(x.shape) == 2:\n",
        "    n = x.shape[0]\n",
        "  val = np.zeros([n, G]) # Allocating an array of appropriate length a priori is better than iterative appending, like in R\n",
        "\n",
        "  for g in range(0, G):\n",
        "    #print(component_density(x, param[g]))\n",
        "    val[:, g] = model['prop'][g] * component_density(x, param[g])\n",
        "\n",
        "  if logged:\n",
        "    return(np.log(np.sum(val, axis = 1))) # np.sum is faster on numpy arrays, but sum is faster on lists\n",
        "  elif post:\n",
        "    return(val / np.sum(val, axis = 1))\n",
        "  else:\n",
        "    return(np.sum(val, axis = 1))\n",
        "\n",
        "#def expect(x, param):\n",
        "\n",
        "\n",
        "x = np.array([[1, 2], [1, 3], [1, 0]])\n",
        "param = [{'mu': np.array([1, 1]),\n",
        "         'alpha': np.array([2, 2]),\n",
        "         'sigma': np.array([[1, 0], [0, 1]]),\n",
        "         'invsigma': np.array([[1, 0], [0, 1]]),\n",
        "         'nu':2},\n",
        "         {'mu': np.array([0, 0]),\n",
        "         'alpha': np.array([-2, -2]),\n",
        "         'sigma': np.array([[1, 0], [0, 1]]),\n",
        "         'invsigma': np.array([[1, 0], [0, 1]]),\n",
        "         'nu':4}]\n",
        "\n",
        "model = {'prop':np.array([0.5, 0.5]),\n",
        "         'param':param}\n",
        "model['G'] = len(model['prop'])\n",
        "#print(model['param'][0])\n",
        "#mixture_density(x, model)\n",
        "\n",
        "\n",
        "\n",
        "\n",
        "\n",
        "\n",
        "\n",
        "\n"
      ]
    }
  ]
}